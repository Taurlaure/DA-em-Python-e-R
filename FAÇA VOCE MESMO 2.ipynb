{
 "cells": [
  {
   "cell_type": "code",
   "execution_count": 19,
   "id": "5fe3ceab",
   "metadata": {},
   "outputs": [
    {
     "name": "stdout",
     "output_type": "stream",
     "text": [
      "49\n"
     ]
    }
   ],
   "source": [
    "#Faça voce mesmo (calcular a amplitude)\n",
    "x = [1,2,3,7,8,9,50]\n",
    "z = max(x)\n",
    "y = min(x)\n",
    "amplitude = (z - y)\n",
    "\n",
    "print(amplitude)\n"
   ]
  },
  {
   "cell_type": "code",
   "execution_count": 44,
   "id": "36141f2d",
   "metadata": {},
   "outputs": [
    {
     "name": "stdout",
     "output_type": "stream",
     "text": [
      "oi\n",
      "o\n",
      "i\n"
     ]
    }
   ],
   "source": [
    "#printa string de forma vertical\n",
    "import numpy as np\n",
    "#x = input((), sep = \"\\n\")\n",
    "print(*input(), sep = \"\\n\")\n",
    "\n"
   ]
  },
  {
   "cell_type": "code",
   "execution_count": 43,
   "id": "e7344c57",
   "metadata": {},
   "outputs": [
    {
     "name": "stdout",
     "output_type": "stream",
     "text": [
      "21\n",
      "PESO NÃO ACEITO\n"
     ]
    }
   ],
   "source": [
    "#Leia o peso de uma carga em numero inteiro. se for até 10kg , valor = 50. se for entre 11 e 20kg , valor = 80.Se for maior o peso nao é aceito\n",
    "import statistics\n",
    "valor = input()\n",
    "valor = int(valor)\n",
    "\n",
    "if valor <= 10:\n",
    "    print(\"VALOR É R$50,00\")\n",
    "elif valor >= 11 and valor <=20:\n",
    "    print(\"VALOR É R$80,00\")\n",
    "else:\n",
    "    print(\"PESO NÃO ACEITO\")"
   ]
  }
 ],
 "metadata": {
  "kernelspec": {
   "display_name": "Python 3",
   "language": "python",
   "name": "python3"
  },
  "language_info": {
   "codemirror_mode": {
    "name": "ipython",
    "version": 3
   },
   "file_extension": ".py",
   "mimetype": "text/x-python",
   "name": "python",
   "nbconvert_exporter": "python",
   "pygments_lexer": "ipython3",
   "version": "3.8.8"
  }
 },
 "nbformat": 4,
 "nbformat_minor": 5
}
